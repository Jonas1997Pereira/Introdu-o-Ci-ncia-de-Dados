{
  "cells": [
    {
      "cell_type": "markdown",
      "metadata": {
        "id": "view-in-github",
        "colab_type": "text"
      },
      "source": [
        "<a href=\"https://colab.research.google.com/github/Jonas1997Pereira/Introdu-o-Ci-ncia-de-Dados/blob/main/C%C3%B3pia_de_01_basic_statistics_lab.ipynb\" target=\"_parent\"><img src=\"https://colab.research.google.com/assets/colab-badge.svg\" alt=\"Open In Colab\"/></a>"
      ]
    },
    {
      "cell_type": "markdown",
      "id": "01f11313",
      "metadata": {
        "id": "01f11313"
      },
      "source": [
        "# Introdução às medidas estatísticas básicas com Pandas\n",
        "Este caderno irá guiá-lo através de algumas medidas estatísticas básicas usando a biblioteca `pandas`. Iremos cobrir:\n",
        "1. Média\n",
        "2. Mediana\n",
        "3. Modo\n",
        "4. Desvio Padrão\n",
        "5. Variância\n",
        "6. Quartis e Percentis"
      ]
    },
    {
      "cell_type": "markdown",
      "source": [
        "## Importando Bibliotecas Necessárias\n",
        "Primeiro, importaremos as bibliotecas necessárias."
      ],
      "metadata": {
        "id": "dp-9DQOrMeA-"
      },
      "id": "dp-9DQOrMeA-"
    },
    {
      "cell_type": "code",
      "execution_count": 19,
      "id": "593697cf",
      "metadata": {
        "id": "593697cf"
      },
      "outputs": [],
      "source": [
        "import pandas as pd # Biblioteca para análise de dados.\n",
        "import matplotlib.pyplot as plt # Criação de gráficos e visualizações estáticas de dados."
      ]
    },
    {
      "cell_type": "markdown",
      "id": "69e9a8af",
      "metadata": {
        "id": "69e9a8af"
      },
      "source": [
        "## Criando o DataFrame\n",
        "Vamos criar um DataFrame com os dados que usaremos nos exemplos."
      ]
    },
    {
      "cell_type": "code",
      "execution_count": 20,
      "id": "6ce414f1",
      "metadata": {
        "id": "6ce414f1",
        "colab": {
          "base_uri": "https://localhost:8080/"
        },
        "outputId": "dc982a1a-5341-4b23-cb1d-e63a004b68e6"
      },
      "outputs": [
        {
          "output_type": "stream",
          "name": "stdout",
          "text": [
            "   values\n",
            "0    1000\n",
            "1      20\n",
            "2      30\n",
            "3      40\n",
            "4      50\n"
          ]
        }
      ],
      "source": [
        "data = pd.DataFrame({'values': [1000, 20, 30, 40, 50]}) # Cria um novo Data frame\n",
        "print(data) # Printa os valores do data frame"
      ]
    },
    {
      "cell_type": "markdown",
      "id": "e3722a78",
      "metadata": {
        "id": "e3722a78"
      },
      "source": [
        "## 1. Média\n",
        "A média é a soma de todos os valores dividida pelo número de valores."
      ]
    },
    {
      "cell_type": "code",
      "execution_count": 21,
      "id": "8e617b70",
      "metadata": {
        "id": "8e617b70",
        "colab": {
          "base_uri": "https://localhost:8080/"
        },
        "outputId": "0ed4abdb-c706-498b-e434-a260988498a6"
      },
      "outputs": [
        {
          "output_type": "stream",
          "name": "stdout",
          "text": [
            "Mean: 228.0\n"
          ]
        }
      ],
      "source": [
        "mean = data['values'].mean() #calcula a média dos valores\n",
        "print(\"Mean:\", mean) # Printa esta média"
      ]
    },
    {
      "cell_type": "markdown",
      "id": "e15053b1",
      "metadata": {
        "id": "e15053b1"
      },
      "source": [
        "## 2. Mediana\n",
        "A mediana é o valor médio quando os dados são ordenados."
      ]
    },
    {
      "cell_type": "code",
      "execution_count": 22,
      "id": "6eb4da6b",
      "metadata": {
        "id": "6eb4da6b",
        "colab": {
          "base_uri": "https://localhost:8080/"
        },
        "outputId": "077c1a49-104e-4add-f658-9cfde9eb42d3"
      },
      "outputs": [
        {
          "output_type": "stream",
          "name": "stdout",
          "text": [
            "Median: 40.0\n"
          ]
        }
      ],
      "source": [
        "median = data['values'].median() #Calcula a mediana dos valores\n",
        "print(\"Median:\", median) # Printa esta mediana"
      ]
    },
    {
      "cell_type": "markdown",
      "id": "7bdbe0ef",
      "metadata": {
        "id": "7bdbe0ef"
      },
      "source": [
        "## 3. Modo\n",
        "A moda é o valor que aparece com mais frequência nos dados."
      ]
    },
    {
      "cell_type": "code",
      "execution_count": 23,
      "id": "715d64c5",
      "metadata": {
        "id": "715d64c5",
        "colab": {
          "base_uri": "https://localhost:8080/"
        },
        "outputId": "8efd3c27-3ef7-49bc-8dae-65ba392183a7"
      },
      "outputs": [
        {
          "output_type": "stream",
          "name": "stdout",
          "text": [
            "Mode: 20\n"
          ]
        }
      ],
      "source": [
        "mode = data['values'].mode() #Calcula a moda dos valores\n",
        "print(\"Mode:\", mode[0]) #Printa a moda dos valores"
      ]
    },
    {
      "cell_type": "markdown",
      "id": "d2a707fd",
      "metadata": {
        "id": "d2a707fd"
      },
      "source": [
        "## 4. Desvio Padrão\n",
        "O desvio padrão mede a dispersão dos dados em relação à média."
      ]
    },
    {
      "cell_type": "code",
      "execution_count": 24,
      "id": "000bba44",
      "metadata": {
        "id": "000bba44",
        "colab": {
          "base_uri": "https://localhost:8080/"
        },
        "outputId": "1884b662-9ff7-49ed-e5e3-49ff88de78e0"
      },
      "outputs": [
        {
          "output_type": "stream",
          "name": "stdout",
          "text": [
            "Standard Deviation: 431.70591842132535\n"
          ]
        }
      ],
      "source": [
        "std_dev = data['values'].std() # Calcula o desvio padrão dos dados\n",
        "print(\"Standard Deviation:\", std_dev) # Printa este desvio"
      ]
    },
    {
      "cell_type": "markdown",
      "id": "96415f42",
      "metadata": {
        "id": "96415f42"
      },
      "source": [
        "## 5. Variância\n",
        "A variância é o quadrado do desvio padrão."
      ]
    },
    {
      "cell_type": "code",
      "execution_count": 25,
      "id": "5e88e1cd",
      "metadata": {
        "id": "5e88e1cd",
        "colab": {
          "base_uri": "https://localhost:8080/"
        },
        "outputId": "e182e124-9a54-4592-a97c-0b4cbe701e43"
      },
      "outputs": [
        {
          "output_type": "stream",
          "name": "stdout",
          "text": [
            "Variance: 186370.0\n"
          ]
        }
      ],
      "source": [
        "variance = data['values'].var() #Calcula a variância\n",
        "print(\"Variance:\", variance) # Printa do desvio padrão"
      ]
    },
    {
      "cell_type": "markdown",
      "id": "a221087d",
      "metadata": {
        "id": "a221087d"
      },
      "source": [
        "## 6. Quartis e Percentis\n",
        "Os quartis dividem os dados em quatro partes iguais. Os percentis são semelhantes, mas dividem os dados em 100 partes iguais."
      ]
    },
    {
      "cell_type": "code",
      "execution_count": 26,
      "id": "3bc76b5f",
      "metadata": {
        "id": "3bc76b5f",
        "colab": {
          "base_uri": "https://localhost:8080/"
        },
        "outputId": "d0303219-2eed-4752-cc8a-4ef3aaa28f48"
      },
      "outputs": [
        {
          "output_type": "stream",
          "name": "stdout",
          "text": [
            "1st Quartile (Q1): 30.0\n",
            "2nd Quartile (Q2): 40.0\n",
            "3rd Quartile (Q3): 50.0\n",
            "90th Percentile: 620.0\n"
          ]
        }
      ],
      "source": [
        "# Calcula os quartis que dividem os dados\n",
        "Q1 = data['values'].quantile(0.25) # Correspode a 25%\n",
        "Q2 = data['values'].quantile(0.50) # Correspode a 50%\n",
        "Q3 = data['values'].quantile(0.75) # Correspode a 75%\n",
        "# Printa os resultados os cálculos\n",
        "print(\"1st Quartile (Q1):\", Q1)\n",
        "print(\"2nd Quartile (Q2):\", Q2)\n",
        "print(\"3rd Quartile (Q3):\", Q3)\n",
        "\n",
        "# Calcula e printa os percentis\n",
        "percentile_90 = data['values'].quantile(0.90)\n",
        "print(\"90th Percentile:\", percentile_90)"
      ]
    },
    {
      "cell_type": "markdown",
      "id": "45efab78",
      "metadata": {
        "id": "45efab78"
      },
      "source": [
        "## Visualização de dados\n",
        "Vamos usar um boxplot para visualizar a distribuição dos dados."
      ]
    },
    {
      "cell_type": "code",
      "execution_count": 27,
      "id": "29165df6",
      "metadata": {
        "id": "29165df6",
        "colab": {
          "base_uri": "https://localhost:8080/",
          "height": 452
        },
        "outputId": "61dcc0bf-3c2e-4556-bd06-a5a499f18722"
      },
      "outputs": [
        {
          "output_type": "display_data",
          "data": {
            "text/plain": [
              "<Figure size 640x480 with 1 Axes>"
            ],
            "image/png": "[encoded data removed]"
          },
          "metadata": {}
        }
      ],
      "source": [
        "# Utiliza o boxplot para a melhor visualização dos dados\n",
        "plt.boxplot(data['values'])\n",
        "plt.title(\"Boxplot of the Data\")\n",
        "plt.show()"
      ]
    },
    {
      "cell_type": "markdown",
      "id": "e21e8421",
      "metadata": {
        "id": "e21e8421"
      },
      "source": [
        "## Conclusão\n",
        "Neste caderno, cobrimos algumas medidas estatísticas básicas, incluindo média, mediana, moda, desvio padrão, variância, quartis e percentis. Além disso, visualizamos a distribuição dos dados por meio de um boxplot. Esperamos que este caderno ajude você a entender melhor essas medidas e como aplicá-las aos seus dados.\n"
      ]
    }
  ],
  "metadata": {
    "colab": {
      "provenance": [],
      "include_colab_link": true
    },
    "language_info": {
      "name": "python"
    },
    "kernelspec": {
      "name": "python3",
      "display_name": "Python 3"
    }
  },
  "nbformat": 4,
  "nbformat_minor": 5
}