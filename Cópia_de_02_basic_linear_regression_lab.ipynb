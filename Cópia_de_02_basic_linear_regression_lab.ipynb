{
  "cells": [
    {
      "cell_type": "markdown",
      "metadata": {
        "id": "view-in-github",
        "colab_type": "text"
      },
      "source": [
        "<a href=\"https://colab.research.google.com/github/Jonas1997Pereira/Introdu-o-Ci-ncia-de-Dados/blob/main/C%C3%B3pia_de_02_basic_linear_regression_lab.ipynb\" target=\"_parent\"><img src=\"https://colab.research.google.com/assets/colab-badge.svg\" alt=\"Open In Colab\"/></a>"
      ]
    },
    {
      "cell_type": "markdown",
      "id": "557bb495",
      "metadata": {
        "id": "557bb495"
      },
      "source": [
        "## 1. Introdução\n",
        "Este caderno fornece uma introdução à regressão linear. Criaremos um conjunto de dados sintético, ajustaremos um modelo de regressão linear e avaliaremos seu desempenho."
      ]
    },
    {
      "cell_type": "markdown",
      "source": [
        "## 2. Importando Bibliotecas"
      ],
      "metadata": {
        "id": "sf00cQapSS3_"
      },
      "id": "sf00cQapSS3_"
    },
    {
      "cell_type": "code",
      "execution_count": null,
      "id": "eb58c073",
      "metadata": {
        "id": "eb58c073"
      },
      "outputs": [],
      "source": [
        "import numpy as np # importa uma biblioteca com funções matemáticas\n",
        "import pandas as pd # importa uma biblioteca para análise e estruturação de dados\n",
        "import matplotlib.pyplot as plt # importa biblioteca e módulo que auxilia na visualização gráfica dos dados\n",
        "from sklearn.linear_model import LinearRegression # Possibilita o uso da regressão linear\n",
        "from sklearn.metrics import mean_squared_error, r2_score # calcula erro quadrático médio e a variabilidade dos dados"
      ]
    },
    {
      "cell_type": "markdown",
      "id": "2a230dfe",
      "metadata": {
        "id": "2a230dfe"
      },
      "source": [
        "## 3.  Criando o conjunto de dados sintético"
      ]
    },
    {
      "cell_type": "code",
      "execution_count": null,
      "id": "c80bf1e9",
      "metadata": {
        "id": "c80bf1e9"
      },
      "outputs": [],
      "source": [
        "#Gera dados de forma aleatória\n",
        "n_samples = 100 # indica os 100 pontos de dados\n",
        "np.random.seed(42) # gera números aleatórios com a semente 42\n",
        "X = 2 * np.random.rand(n_samples, 1) # gera uma matriz de dimensão (100x1). X é preditora.\n",
        "y = 4 + 3 * X + np.random.randn(n_samples, 1) # gera a variável dependente\n",
        "\n",
        "# Criando um DataFrame\n",
        "data = pd.DataFrame(data=np.hstack((X, y)), columns=['Feature', 'Target']) #são fornecidos dados ao data frame\n",
        "# Os arrays são empilhados em colunas com o uso da função np.hstack()\n",
        "\n",
        "# Exibindo as primeiras linhas do conjunto de dados\n",
        "data.head(10)"
      ]
    },
    {
      "cell_type": "markdown",
      "id": "61ebf00a",
      "metadata": {
        "id": "61ebf00a"
      },
      "source": [
        "## 4. Análise Exploratória de Dados (EDA)\n",
        "Visualizando o relacionamento entre Recurso e Destino"
      ]
    },
    {
      "cell_type": "code",
      "execution_count": null,
      "id": "9f65c7f2",
      "metadata": {
        "id": "9f65c7f2"
      },
      "outputs": [],
      "source": [
        "plt.scatter(data['Feature'], data['Target']) # Criação de gráfico de dispersão\n",
        "plt.xlabel('Feature') # Define o rótulo do eixo x\n",
        "plt.ylabel('Target') # Define o rótulo do eixo y\n",
        "plt.title('Feature vs Target') # Define o título do gráfico\n",
        "plt.show() # exibe o gráfico"
      ]
    },
    {
      "cell_type": "markdown",
      "id": "48eda29d",
      "metadata": {
        "id": "48eda29d"
      },
      "source": [
        "## 5. Treinando o modelo de regressão linear"
      ]
    },
    {
      "cell_type": "code",
      "execution_count": null,
      "id": "61bd1491",
      "metadata": {
        "id": "61bd1491"
      },
      "outputs": [],
      "source": [
        "model = LinearRegression() # É criada uma instância da classe de regressão\n",
        "model.fit(data[['Feature']], data['Target']) # treina o modelo de regressão linear"
      ]
    },
    {
      "cell_type": "markdown",
      "id": "a8bad09a",
      "metadata": {
        "id": "a8bad09a"
      },
      "source": [
        "## 6. Avaliando o modelo"
      ]
    },
    {
      "cell_type": "code",
      "execution_count": null,
      "id": "6cca45ab",
      "metadata": {
        "id": "6cca45ab"
      },
      "outputs": [],
      "source": [
        "y_pred = model.predict(data[['Feature']]) # Este modelo fazz previsões\n",
        "mse = mean_squared_error(data['Target'], y_pred) # Erro quadrático médio\n",
        "r2 = r2_score(data['Target'], y_pred) # indica se o modelo explica ou não a variabilidade\n",
        "print(f'MSE: {mse}') # impressão do erro\n",
        "print(f'R²: {r2}') # impressão da variabilidade"
      ]
    },
    {
      "cell_type": "markdown",
      "id": "2fea9262",
      "metadata": {
        "id": "2fea9262"
      },
      "source": [
        "## 7. Visualising the Results"
      ]
    },
    {
      "cell_type": "code",
      "execution_count": null,
      "id": "c249d936",
      "metadata": {
        "id": "c249d936"
      },
      "outputs": [],
      "source": [
        "plt.scatter(data['Feature'], data['Target'], color='black', label='Actual Data') # cria gráfico de dispersão\n",
        "plt.plot(data['Feature'], y_pred, color='blue', linewidth=3, label='Predictions') # linha contínua sobre o gráfico\n",
        "plt.xlabel('Feature') # o rótulo do eixo X é \"feature\"\n",
        "plt.ylabel('Target') # o rótulo do eixo Y é \"Target\"\n",
        "plt.title('Linear Regression Model') # Título do gráfico\n",
        "plt.legend() # Adição de legenda no gráfico\n",
        "plt.show() # Exibe o gráfico"
      ]
    },
    {
      "cell_type": "markdown",
      "id": "bb5a8748",
      "metadata": {
        "id": "bb5a8748"
      },
      "source": [
        "## 8. Conclusão\n",
        "Neste notebook, criamos um conjunto de dados sintético e ajustamos um modelo de regressão linear. Avaliamos o desempenho do modelo usando MSE e R² e visualizamos os resultados. Este é um exemplo básico para demonstrar os fundamentos da regressão linear."
      ]
    }
  ],
  "metadata": {
    "colab": {
      "provenance": [],
      "include_colab_link": true
    },
    "language_info": {
      "name": "python"
    },
    "kernelspec": {
      "name": "python3",
      "display_name": "Python 3"
    }
  },
  "nbformat": 4,
  "nbformat_minor": 5
}